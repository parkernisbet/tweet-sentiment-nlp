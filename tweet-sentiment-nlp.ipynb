{
 "metadata": {
  "language_info": {
   "codemirror_mode": {
    "name": "ipython",
    "version": 3
   },
   "file_extension": ".py",
   "mimetype": "text/x-python",
   "name": "python",
   "nbconvert_exporter": "python",
   "pygments_lexer": "ipython3",
   "version": "3.8.8-final"
  },
  "orig_nbformat": 2,
  "kernelspec": {
   "name": "python388jvsc74a57bd0039ba0ea65d4ae83123fad7f1d7f3994334a912b8446d9a8b7ab4243a3317da3",
   "display_name": "Python 3.8.8 64-bit ('tweet-sentiment-nlp')"
  },
  "metadata": {
   "interpreter": {
    "hash": "039ba0ea65d4ae83123fad7f1d7f3994334a912b8446d9a8b7ab4243a3317da3"
   }
  }
 },
 "nbformat": 4,
 "nbformat_minor": 2,
 "cells": [
  {
   "source": [
    "# Tweet Sentiment NLP"
   ],
   "cell_type": "markdown",
   "metadata": {}
  },
  {
   "cell_type": "code",
   "execution_count": 1,
   "metadata": {},
   "outputs": [],
   "source": [
    "# check if modules are installed\n",
    "from subprocess import Popen, PIPE\n",
    "\n",
    "output = Popen(\"pip list | awk '{print $1}'\", shell = True, stdout=PIPE).stdout.read().split()\n",
    "packages = [x.decode('utf-8') for x in output][2:]\n",
    "modules = ['contractions', 'demoji', 'kaggle', 'pandas']\n",
    "for nm in modules:\n",
    "    if nm not in packages:\n",
    "        ! pip install {nm}"
   ]
  },
  {
   "cell_type": "code",
   "execution_count": 2,
   "metadata": {},
   "outputs": [],
   "source": [
    "# importing modules\n",
    "import contractions\n",
    "import csv\n",
    "import demoji\n",
    "import glob\n",
    "import pandas as pd\n",
    "import re\n",
    "import zipfile\n",
    "from kaggle.api.kaggle_api_extended import KaggleApi"
   ]
  },
  {
   "cell_type": "code",
   "execution_count": 3,
   "metadata": {},
   "outputs": [
    {
     "output_type": "stream",
     "name": "stdout",
     "text": [
      "Downloading emoji data ...\n",
      "... OK (Got response in 0.25 seconds)\n",
      "Writing emoji data to /home/parkernisbet/.demoji/codes.json ...\n",
      "... OK\n"
     ]
    }
   ],
   "source": [
    "# downloading emoji data\n",
    "demoji.download_codes()"
   ]
  },
  {
   "cell_type": "code",
   "execution_count": 4,
   "metadata": {},
   "outputs": [],
   "source": [
    "# downloading dataset\n",
    "api = KaggleApi()\n",
    "api.authenticate()\n",
    "dataset = 'kazanova/sentiment140'\n",
    "csv_name = 'training.1600000.processed.noemoticon.csv'\n",
    "try:\n",
    "    os.remove(csv_name)\n",
    "except:\n",
    "    pass\n",
    "api.dataset_download_file(dataset, file_name=csv_name, path='./')\n",
    "fn = glob.glob('train*.zip', recursive = True)[0]\n",
    "with zipfile.ZipFile(fn) as zip_file:\n",
    "    for file in zip_file.namelist():\n",
    "        if file == csv_name:\n",
    "            zip_file.extract(csv_name)\n",
    "os.remove(fn)"
   ]
  },
  {
   "cell_type": "code",
   "execution_count": 5,
   "metadata": {},
   "outputs": [
    {
     "output_type": "stream",
     "name": "stdout",
     "text": [
      "df_data dimensions: (1600000, 2)\n"
     ]
    },
    {
     "output_type": "execute_result",
     "data": {
      "text/plain": [
       "   target                                               text\n",
       "0       0  @switchfoot http://twitpic.com/2y1zl - Awww, t...\n",
       "1       0  is upset that he can't update his Facebook by ...\n",
       "2       0  @Kenichan I dived many times for the ball. Man...\n",
       "3       0    my whole body feels itchy and like its on fire \n",
       "4       0  @nationwideclass no, it's not behaving at all...."
      ],
      "text/html": "<div>\n<style scoped>\n    .dataframe tbody tr th:only-of-type {\n        vertical-align: middle;\n    }\n\n    .dataframe tbody tr th {\n        vertical-align: top;\n    }\n\n    .dataframe thead th {\n        text-align: right;\n    }\n</style>\n<table border=\"1\" class=\"dataframe\">\n  <thead>\n    <tr style=\"text-align: right;\">\n      <th></th>\n      <th>target</th>\n      <th>text</th>\n    </tr>\n  </thead>\n  <tbody>\n    <tr>\n      <th>0</th>\n      <td>0</td>\n      <td>@switchfoot http://twitpic.com/2y1zl - Awww, t...</td>\n    </tr>\n    <tr>\n      <th>1</th>\n      <td>0</td>\n      <td>is upset that he can't update his Facebook by ...</td>\n    </tr>\n    <tr>\n      <th>2</th>\n      <td>0</td>\n      <td>@Kenichan I dived many times for the ball. Man...</td>\n    </tr>\n    <tr>\n      <th>3</th>\n      <td>0</td>\n      <td>my whole body feels itchy and like its on fire</td>\n    </tr>\n    <tr>\n      <th>4</th>\n      <td>0</td>\n      <td>@nationwideclass no, it's not behaving at all....</td>\n    </tr>\n  </tbody>\n</table>\n</div>"
     },
     "metadata": {},
     "execution_count": 5
    }
   ],
   "source": [
    "# importing data\n",
    "columns = ['target', 'text']\n",
    "df_data = pd.read_csv(csv_name, usecols = [0, 5], header = None, names = columns)\n",
    "print(f'df_data dimensions: {df_data.shape}')\n",
    "df_data.head()"
   ]
  },
  {
   "cell_type": "code",
   "execution_count": 6,
   "metadata": {},
   "outputs": [
    {
     "output_type": "stream",
     "name": "stdout",
     "text": [
      "df_repl dimensions: (145, 2)\n"
     ]
    },
    {
     "output_type": "execute_result",
     "data": {
      "text/plain": [
       "  emoticon description\n",
       "0      :?)       smile\n",
       "1       :)       smile\n",
       "2      :-]       smile\n",
       "3       :]       smile\n",
       "4      :-3       smile"
      ],
      "text/html": "<div>\n<style scoped>\n    .dataframe tbody tr th:only-of-type {\n        vertical-align: middle;\n    }\n\n    .dataframe tbody tr th {\n        vertical-align: top;\n    }\n\n    .dataframe thead th {\n        text-align: right;\n    }\n</style>\n<table border=\"1\" class=\"dataframe\">\n  <thead>\n    <tr style=\"text-align: right;\">\n      <th></th>\n      <th>emoticon</th>\n      <th>description</th>\n    </tr>\n  </thead>\n  <tbody>\n    <tr>\n      <th>0</th>\n      <td>:?)</td>\n      <td>smile</td>\n    </tr>\n    <tr>\n      <th>1</th>\n      <td>:)</td>\n      <td>smile</td>\n    </tr>\n    <tr>\n      <th>2</th>\n      <td>:-]</td>\n      <td>smile</td>\n    </tr>\n    <tr>\n      <th>3</th>\n      <td>:]</td>\n      <td>smile</td>\n    </tr>\n    <tr>\n      <th>4</th>\n      <td>:-3</td>\n      <td>smile</td>\n    </tr>\n  </tbody>\n</table>\n</div>"
     },
     "metadata": {},
     "execution_count": 6
    }
   ],
   "source": [
    "# importing emoticon descriptions\n",
    "df_repl = pd.read_csv('emoticon_descriptions.csv', header = 0, usecols =[0, 1], names = ['emoticon', 'description'])\n",
    "print(f'df_repl dimensions: {df_repl.shape}')\n",
    "df_repl.head()"
   ]
  },
  {
   "cell_type": "code",
   "execution_count": 7,
   "metadata": {},
   "outputs": [],
   "source": [
    "# moving to dictionary\n",
    "dict_emot = {a:b for a, b in zip(df_repl.iloc[:, 0], df_repl.iloc[:, 1])}"
   ]
  },
  {
   "cell_type": "code",
   "execution_count": 8,
   "metadata": {},
   "outputs": [],
   "source": [
    "# adding html replacements\n",
    "dict_emot['&quot;'] = 'quote'\n",
    "dict_emot['&amp;'] = 'and'\n",
    "dict_emot['&lt;'] = 'less than'\n",
    "dict_emot['&gt;'] = 'greater than'"
   ]
  },
  {
   "cell_type": "code",
   "execution_count": 9,
   "metadata": {},
   "outputs": [],
   "source": [
    "# creating dictionary of common abbreviations\n",
    "df_repl = pd.read_csv('common_abbreviations.csv').applymap(lambda x: x.lower())\n",
    "dict_abbr = {a:b for a, b in zip(df_repl.iloc[:, 0], df_repl.iloc[:, 1])}"
   ]
  },
  {
   "cell_type": "code",
   "execution_count": 10,
   "metadata": {},
   "outputs": [],
   "source": [
    "# preprocessing tweet body text\n",
    "def preprocess(text):\n",
    "    '''\n",
    "    Returns a preprocessed version of the passed string.\n",
    "\n",
    "        Parameters:\n",
    "            text (str) : passed string\n",
    "        \n",
    "        Returns:\n",
    "            mod_text (str) : preprocessed string\n",
    "    '''\n",
    "\n",
    "    # replace usernames\n",
    "    mod_text = re.sub(r'(?:(?<=\\s)|(?<=^))(@\\S+)(?:(?=\\s)|(?=$))', \\\n",
    "        ' USER ', text)\n",
    "    \n",
    "    # replace urls\n",
    "    mod_text = re.sub(r'(?:(?<=^)|(?<=\\s))(https?:\\/\\/\\S+)(?:(?=$)|(?=\\s))', \\\n",
    "        ' URL ', mod_text)\n",
    "    \n",
    "    # replace emoticons with text\n",
    "    for i, k in dict_emot.items():\n",
    "        mod_text = mod_text.replace(i, ' ' + k + ' ')\n",
    "    \n",
    "    # replace unrecognized characters\n",
    "    mod_text = mod_text.replace('İ', 'I')\n",
    "    \n",
    "    # expand contractions\n",
    "    mod_text = contractions.fix(mod_text)\n",
    "\n",
    "    # remove non-alphabet characters\n",
    "    mod_text = re.sub(r'[^a-zA-Z0-9]', ' ', mod_text)\n",
    "\n",
    "    # lower case text\n",
    "    mod_text = mod_text.lower()\n",
    "\n",
    "    # truncate repeated characters\n",
    "    mod_text = re.sub(r'(.)\\1{2,}', r'\\1\\1', mod_text)\n",
    "\n",
    "    # replace common abbreviations\n",
    "    for i, k in dict_abbr.items():\n",
    "        mod_text = mod_text.replace(' ' + i + ' ', ' ' + k + ' ')\n",
    "\n",
    "    # remove repeated whitespace\n",
    "    mod_text = re.sub(r'( )\\1+', ' ', mod_text)\n",
    "\n",
    "    return mod_text\n"
   ]
  },
  {
   "cell_type": "code",
   "execution_count": 12,
   "metadata": {},
   "outputs": [
    {
     "output_type": "execute_result",
     "data": {
      "text/plain": [
       "   target                                               text\n",
       "0       0   user url aww that is a bummer you shoulda got...\n",
       "1       0  is upset that he can not update his facebook b...\n",
       "2       0   user i dived many times for the ball managed ...\n",
       "3       0    my whole body feels itchy and like its on fire \n",
       "4       0   user no it is not behaving at all i am mad wh..."
      ],
      "text/html": "<div>\n<style scoped>\n    .dataframe tbody tr th:only-of-type {\n        vertical-align: middle;\n    }\n\n    .dataframe tbody tr th {\n        vertical-align: top;\n    }\n\n    .dataframe thead th {\n        text-align: right;\n    }\n</style>\n<table border=\"1\" class=\"dataframe\">\n  <thead>\n    <tr style=\"text-align: right;\">\n      <th></th>\n      <th>target</th>\n      <th>text</th>\n    </tr>\n  </thead>\n  <tbody>\n    <tr>\n      <th>0</th>\n      <td>0</td>\n      <td>user url aww that is a bummer you shoulda got...</td>\n    </tr>\n    <tr>\n      <th>1</th>\n      <td>0</td>\n      <td>is upset that he can not update his facebook b...</td>\n    </tr>\n    <tr>\n      <th>2</th>\n      <td>0</td>\n      <td>user i dived many times for the ball managed ...</td>\n    </tr>\n    <tr>\n      <th>3</th>\n      <td>0</td>\n      <td>my whole body feels itchy and like its on fire</td>\n    </tr>\n    <tr>\n      <th>4</th>\n      <td>0</td>\n      <td>user no it is not behaving at all i am mad wh...</td>\n    </tr>\n  </tbody>\n</table>\n</div>"
     },
     "metadata": {},
     "execution_count": 12
    }
   ],
   "source": [
    "# apply function to dataframe\n",
    "df_data.loc[:, 'text'] = df_data['text'].apply(preprocess)\n",
    "df_data.head()"
   ]
  },
  {
   "source": [
    "To-do: add stop word removal and lemmatization of words, investigate type correction"
   ],
   "cell_type": "markdown",
   "metadata": {}
  }
 ]
}